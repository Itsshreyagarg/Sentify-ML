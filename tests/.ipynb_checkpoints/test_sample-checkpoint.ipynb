{
 "cells": [
  {
   "cell_type": "code",
   "execution_count": 1,
   "id": "b8f52c54-dc0f-4874-93fd-519484daace5",
   "metadata": {},
   "outputs": [],
   "source": [
    "def test_example():\n",
    "    assert 2 + 2 == 4 "
   ]
  },
  {
   "cell_type": "code",
   "execution_count": null,
   "id": "4bc66853-38fe-4467-b675-69913c26050a",
   "metadata": {},
   "outputs": [],
   "source": []
  },
  {
   "cell_type": "code",
   "execution_count": null,
   "id": "27bfdea9-22e5-47da-b973-e46309d21f06",
   "metadata": {},
   "outputs": [],
   "source": []
  }
 ],
 "metadata": {
  "kernelspec": {
   "display_name": "Python 3 (ipykernel)",
   "language": "python",
   "name": "python3"
  },
  "language_info": {
   "codemirror_mode": {
    "name": "ipython",
    "version": 3
   },
   "file_extension": ".py",
   "mimetype": "text/x-python",
   "name": "python",
   "nbconvert_exporter": "python",
   "pygments_lexer": "ipython3",
   "version": "3.11.8"
  }
 },
 "nbformat": 4,
 "nbformat_minor": 5
}
