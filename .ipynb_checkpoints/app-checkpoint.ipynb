{
 "cells": [
  {
   "cell_type": "code",
   "execution_count": 1,
   "id": "2812b885-335e-4dd7-b4e8-0d494ee5c75d",
   "metadata": {},
   "outputs": [],
   "source": [
    "from fastapi import FastAPI\n",
    "from pydantic import BaseModel\n",
    "import joblib\n",
    "import uvicorn"
   ]
  },
  {
   "cell_type": "code",
   "execution_count": 2,
   "id": "fb5f7295-851a-44c8-9a8e-0b068bf48274",
   "metadata": {},
   "outputs": [],
   "source": [
    "model = joblib.load(\"sentiment_model.pkl\")\n",
    "vectorizer = joblib.load(\"tfidf_vectorizer.pkl\")"
   ]
  },
  {
   "cell_type": "code",
   "execution_count": 3,
   "id": "b53cd3eb-0073-4081-aa8e-b08f1f3ee4a2",
   "metadata": {},
   "outputs": [],
   "source": [
    "app = FastAPI()"
   ]
  },
  {
   "cell_type": "code",
   "execution_count": 4,
   "id": "f8f8a428-7688-43d4-bad9-e826594a34ff",
   "metadata": {},
   "outputs": [],
   "source": [
    "class TextInput(BaseModel):\n",
    "    text: str"
   ]
  },
  {
   "cell_type": "code",
   "execution_count": 5,
   "id": "55538363-d138-4763-b98f-038bd03fcdf2",
   "metadata": {},
   "outputs": [],
   "source": [
    "@app.post(\"/predict\")\n",
    "def predict_sentiment(input_data: TextInput):\n",
    "    transformed_text = vectorizer.transform([input_data.text])\n",
    "    prediction = model.predict(transformed_text)[0]\n",
    "    \n",
    "    sentiment = \"Positive\" if prediction == 1 else \"Negative\"\n",
    "    return {\"sentiment\": sentiment}"
   ]
  },
  {
   "cell_type": "code",
   "execution_count": 8,
   "id": "58e2b58e-7683-4011-a66c-33dd95893c1f",
   "metadata": {},
   "outputs": [],
   "source": [
    "import nest_asyncio"
   ]
  },
  {
   "cell_type": "code",
   "execution_count": 9,
   "id": "a4149b86-25e5-4f9b-9199-31d09bac7123",
   "metadata": {},
   "outputs": [],
   "source": [
    "nest_asyncio.apply()"
   ]
  },
  {
   "cell_type": "code",
   "execution_count": null,
   "id": "c8794ae1-408a-4c32-b8ac-37585af0ed30",
   "metadata": {},
   "outputs": [
    {
     "name": "stderr",
     "output_type": "stream",
     "text": [
      "INFO:     Started server process [18556]\n",
      "INFO:     Waiting for application startup.\n",
      "INFO:     Application startup complete.\n",
      "INFO:     Uvicorn running on http://0.0.0.0:8000 (Press CTRL+C to quit)\n"
     ]
    },
    {
     "name": "stdout",
     "output_type": "stream",
     "text": [
      "INFO:     127.0.0.1:60013 - \"GET / HTTP/1.1\" 404 Not Found\n",
      "INFO:     127.0.0.1:60013 - \"GET /favicon.ico HTTP/1.1\" 404 Not Found\n",
      "INFO:     127.0.0.1:60023 - \"GET / HTTP/1.1\" 404 Not Found\n",
      "INFO:     127.0.0.1:60023 - \"GET /favicon.ico HTTP/1.1\" 404 Not Found\n",
      "INFO:     127.0.0.1:60026 - \"GET /docs HTTP/1.1\" 200 OK\n",
      "INFO:     127.0.0.1:60026 - \"GET /openapi.json HTTP/1.1\" 200 OK\n",
      "INFO:     127.0.0.1:60037 - \"GET /docs HTTP/1.1\" 200 OK\n",
      "INFO:     127.0.0.1:60037 - \"GET /openapi.json HTTP/1.1\" 200 OK\n",
      "INFO:     127.0.0.1:60045 - \"POST /predict HTTP/1.1\" 200 OK\n",
      "INFO:     127.0.0.1:60052 - \"POST /predict HTTP/1.1\" 200 OK\n"
     ]
    }
   ],
   "source": [
    "uvicorn.run(app, host=\"0.0.0.0\", port=8000)"
   ]
  },
  {
   "cell_type": "code",
   "execution_count": null,
   "id": "b953bc70-e3f3-4910-a33e-ac987e916e70",
   "metadata": {},
   "outputs": [],
   "source": []
  }
 ],
 "metadata": {
  "kernelspec": {
   "display_name": "Python 3 (ipykernel)",
   "language": "python",
   "name": "python3"
  },
  "language_info": {
   "codemirror_mode": {
    "name": "ipython",
    "version": 3
   },
   "file_extension": ".py",
   "mimetype": "text/x-python",
   "name": "python",
   "nbconvert_exporter": "python",
   "pygments_lexer": "ipython3",
   "version": "3.11.8"
  }
 },
 "nbformat": 4,
 "nbformat_minor": 5
}
